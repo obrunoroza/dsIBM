{
 "cells": [
  {
   "cell_type": "markdown",
   "id": "629a1a3d",
   "metadata": {},
   "source": [
    "# Data Science Tools and Ecosystem"
   ]
  },
  {
   "cell_type": "markdown",
   "id": "59fb2305",
   "metadata": {},
   "source": [
    "Objectives:\n",
    "* Popular languages for Data Science\n",
    "* Popular languages that Data Scientists\n",
    "* Libraries used by Data Scientists"
   ]
  },
  {
   "cell_type": "markdown",
   "id": "3fc04bdb",
   "metadata": {},
   "source": [
    "In this notebook, Data Science Tools and Ecosystem are summarized."
   ]
  },
  {
   "cell_type": "markdown",
   "id": "75af7f02",
   "metadata": {},
   "source": [
    "Some of the popular languages that Data Scientists use are:\n",
    "1. Python\n",
    "2. R\n",
    "3. C++\n",
    "4. C#\n",
    "5. JavaScript"
   ]
  },
  {
   "cell_type": "markdown",
   "id": "f5f41023",
   "metadata": {},
   "source": [
    "Some of the commonly used libraries used by Data Scientists include:\n",
    "1. Pandas\n",
    "2. Numpy\n",
    "3. Matplotlib\n",
    "4. SciPy"
   ]
  },
  {
   "cell_type": "markdown",
   "id": "4720ba89",
   "metadata": {},
   "source": [
    "\n",
    "|Data Science Tools|\n",
    "|:----------:|\n",
    "|Apache Hadoop|\n",
    "|Anaconda|\n",
    "|R Studio|\n",
    "|Jupyter Notebook|"
   ]
  },
  {
   "cell_type": "markdown",
   "id": "576e7bd3",
   "metadata": {},
   "source": [
    "Below are a few examples of evaluating arithmetic expressions in Python.\n",
    "\n",
    "2 ** 2\n",
    "2 + 4 - 4\n",
    "5 * 3 + 17"
   ]
  },
  {
   "cell_type": "code",
   "execution_count": 2,
   "id": "cb471cfb",
   "metadata": {},
   "outputs": [
    {
     "data": {
      "text/plain": [
       "17"
      ]
     },
     "execution_count": 2,
     "metadata": {},
     "output_type": "execute_result"
    }
   ],
   "source": [
    "# This a simple arithmetic expression to mutiply then add integers\n",
    "\n",
    "(3 * 4) + 5"
   ]
  },
  {
   "cell_type": "code",
   "execution_count": 4,
   "id": "e998a56b",
   "metadata": {},
   "outputs": [],
   "source": [
    "# This will convert minutes to hours by diving by 60\n",
    "\n",
    "def minutes_to_hours(minutes):\n",
    "    return minutes / 60"
   ]
  },
  {
   "cell_type": "code",
   "execution_count": 5,
   "id": "868ba115",
   "metadata": {},
   "outputs": [
    {
     "data": {
      "text/plain": [
       "3.3333333333333335"
      ]
     },
     "execution_count": 5,
     "metadata": {},
     "output_type": "execute_result"
    }
   ],
   "source": [
    "minutes_to_hours(200)"
   ]
  },
  {
   "cell_type": "markdown",
   "id": "1d9f77ff",
   "metadata": {},
   "source": [
    "## Author \n",
    "Bruno"
   ]
  },
  {
   "cell_type": "code",
   "execution_count": null,
   "id": "b65588c0",
   "metadata": {},
   "outputs": [],
   "source": []
  }
 ],
 "metadata": {
  "kernelspec": {
   "display_name": "Python 3 (ipykernel)",
   "language": "python",
   "name": "python3"
  },
  "language_info": {
   "codemirror_mode": {
    "name": "ipython",
    "version": 3
   },
   "file_extension": ".py",
   "mimetype": "text/x-python",
   "name": "python",
   "nbconvert_exporter": "python",
   "pygments_lexer": "ipython3",
   "version": "3.11.7"
  }
 },
 "nbformat": 4,
 "nbformat_minor": 5
}
